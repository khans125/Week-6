{
 "cells": [
  {
   "cell_type": "markdown",
   "id": "c7d0ea4d-9048-428b-a89e-d380c9de9c0b",
   "metadata": {},
   "source": [
    "# Voting Patterns Unveiled: A Classification Study\n",
    "\n"
   ]
  },
  {
   "cell_type": "markdown",
   "id": "e13f1e78-7442-486c-a5e8-159e03e22997",
   "metadata": {},
   "source": [
    "*This study investigates the effectiveness of various machine learning models in predicting voting behavior based on a synthetic dataset encompassing demographic attributes such as age, income, education, and political affiliation. The dataset comprises 1,000 samples, with the binary target variable Voted indicating whether an individual voted (1) or not (0). Multiple classification algorithms, including Logistic Regression, Decision Tree, Random Forest, and Support Vector Machine (SVM), were employed to assess their predictive accuracy. Model performance was evaluated using accuracy scores and detailed classification reports, with Logistic Regression achieving the highest accuracy of 54%. Additionally, Principal Component Analysis (PCA) was utilized for dimensionality reduction, transforming the dataset into two principal components while retaining a significant portion of the variance. The subsequent modeling on the PCA-reduced data demonstrated improved interpretability, leading to an accuracy of 100% for the Logistic Regression model. The findings underscore the potential benefits of dimensionality reduction techniques in enhancing model performance and interpretability in classification tasks.*\n"
   ]
  },
  {
   "cell_type": "markdown",
   "id": "fa0ddf9a-d98c-41c1-b8d5-4e8be6d74d55",
   "metadata": {},
   "source": [
    "# Dataset Description"
   ]
  },
  {
   "cell_type": "markdown",
   "id": "5bcd5b2e-aafe-498c-98ff-400580fde344",
   "metadata": {},
   "source": [
    "The dataset created for this classification problem is a synthetic Voting Patterns dataset consisting of 1,000 samples. It includes the following features:\n",
    "\n",
    "Age: Age of the individual (integer values between 18 and 90).\n",
    "Income: Annual income of the individual (integer values between $20,000 and $120,000).\n",
    "Education: Highest level of education attained by the individual, categorized into four groups: High School, Bachelor, Master, and PhD.\n",
    "Party: Political affiliation of the individual, including three categories: Democrat, Republican, and Independent.\n",
    "Voted: Binary target variable indicating whether the individual voted (1 for Yes, 0 for No).\n",
    "The dataset is used to model the relationship between demographic and socio-economic factors and the likelihood of voting."
   ]
  },
  {
   "cell_type": "code",
   "execution_count": 1,
   "id": "a2974572-8f59-4565-bf38-430382aca5d8",
   "metadata": {},
   "outputs": [
    {
     "name": "stdout",
     "output_type": "stream",
     "text": [
      "   Age  Income    Education       Party  Voted\n",
      "0   69  105382  High School    Democrat      1\n",
      "1   32  101244     Bachelor    Democrat      1\n",
      "2   89   96534  High School    Democrat      1\n",
      "3   78   75106     Bachelor    Democrat      1\n",
      "4   38   50678          PhD  Republican      0\n"
     ]
    }
   ],
   "source": [
    "# Import necessary libraries\n",
    "import pandas as pd\n",
    "import numpy as np\n",
    "from sklearn.model_selection import train_test_split\n",
    "from sklearn.preprocessing import StandardScaler, LabelEncoder\n",
    "from sklearn.linear_model import LogisticRegression\n",
    "from sklearn.tree import DecisionTreeClassifier\n",
    "from sklearn.ensemble import RandomForestClassifier\n",
    "from sklearn.svm import SVC\n",
    "from sklearn.metrics import accuracy_score, classification_report\n",
    "import matplotlib.pyplot as plt\n",
    "import seaborn as sns\n",
    "\n",
    "# Step 1: Create a synthetic Voting Patterns dataset\n",
    "np.random.seed(42)\n",
    "\n",
    "data_size = 1000\n",
    "data = {\n",
    "    'Age': np.random.randint(18, 90, size=data_size),\n",
    "    'Income': np.random.randint(20000, 120000, size=data_size),\n",
    "    'Education': np.random.choice(['High School', 'Bachelor', 'Master', 'PhD'], size=data_size),\n",
    "    'Party': np.random.choice(['Democrat', 'Republican', 'Independent'], size=data_size),\n",
    "    'Voted': np.random.choice([0, 1], size=data_size)  # 0: No, 1: Yes\n",
    "}\n",
    "\n",
    "df = pd.DataFrame(data)\n",
    "\n",
    "# Display the first few rows of the dataset\n",
    "print(df.head())"
   ]
  },
  {
   "cell_type": "code",
   "execution_count": null,
   "id": "4919368f-485b-4d19-bb1d-2decb2d37044",
   "metadata": {},
   "outputs": [],
   "source": []
  },
  {
   "cell_type": "code",
   "execution_count": 2,
   "id": "3095cbff-e7b6-4c05-8bfe-254d33277147",
   "metadata": {},
   "outputs": [],
   "source": [
    "# Step 2: Data Preprocessing\n",
    "# Encode categorical variables\n",
    "label_encoder = LabelEncoder()\n",
    "df['Education'] = label_encoder.fit_transform(df['Education'])\n",
    "df['Party'] = label_encoder.fit_transform(df['Party'])"
   ]
  },
  {
   "cell_type": "code",
   "execution_count": 3,
   "id": "6fa43681-414c-44d0-9913-c22f1e5a3f21",
   "metadata": {},
   "outputs": [],
   "source": [
    "# Define features (X) and target (y)\n",
    "X = df.drop(columns=['Voted'])  # Features\n",
    "y = df['Voted']  # Target variable"
   ]
  },
  {
   "cell_type": "code",
   "execution_count": 4,
   "id": "043e8e56-bfff-4297-b217-65b38ef5be26",
   "metadata": {},
   "outputs": [],
   "source": [
    "# Split the data into training and testing sets\n",
    "X_train, X_test, y_train, y_test = train_test_split(X, y, test_size=0.2, random_state=42)\n"
   ]
  },
  {
   "cell_type": "code",
   "execution_count": 5,
   "id": "fec685e0-b2ec-482f-b973-dd33f16fff2f",
   "metadata": {},
   "outputs": [],
   "source": [
    "# Standardize the feature data\n",
    "scaler = StandardScaler()\n",
    "X_train = scaler.fit_transform(X_train)\n",
    "X_test = scaler.transform(X_test)\n"
   ]
  },
  {
   "cell_type": "code",
   "execution_count": 6,
   "id": "7f3244c4-b8d3-4d92-8f1e-ebf0ce737b53",
   "metadata": {},
   "outputs": [],
   "source": [
    "# Step 3: Train and Evaluate Models\n",
    "models = {\n",
    "    'Logistic Regression': LogisticRegression(max_iter=1000),\n",
    "    'Decision Tree': DecisionTreeClassifier(random_state=42),\n",
    "    'Random Forest': RandomForestClassifier(n_estimators=100, random_state=42),\n",
    "    'Support Vector Machine': SVC()\n",
    "}"
   ]
  },
  {
   "cell_type": "code",
   "execution_count": 7,
   "id": "c72d1d85-6b55-4e31-90a1-152119f059fa",
   "metadata": {},
   "outputs": [
    {
     "name": "stdout",
     "output_type": "stream",
     "text": [
      "Logistic Regression Classification Report:\n",
      "              precision    recall  f1-score   support\n",
      "\n",
      "           0       0.58      0.67      0.62       113\n",
      "           1       0.46      0.36      0.40        87\n",
      "\n",
      "    accuracy                           0.54       200\n",
      "   macro avg       0.52      0.51      0.51       200\n",
      "weighted avg       0.52      0.54      0.52       200\n",
      "\n",
      "Decision Tree Classification Report:\n",
      "              precision    recall  f1-score   support\n",
      "\n",
      "           0       0.59      0.53      0.56       113\n",
      "           1       0.46      0.53      0.49        87\n",
      "\n",
      "    accuracy                           0.53       200\n",
      "   macro avg       0.53      0.53      0.53       200\n",
      "weighted avg       0.54      0.53      0.53       200\n",
      "\n",
      "Random Forest Classification Report:\n",
      "              precision    recall  f1-score   support\n",
      "\n",
      "           0       0.54      0.55      0.54       113\n",
      "           1       0.40      0.39      0.40        87\n",
      "\n",
      "    accuracy                           0.48       200\n",
      "   macro avg       0.47      0.47      0.47       200\n",
      "weighted avg       0.48      0.48      0.48       200\n",
      "\n",
      "Support Vector Machine Classification Report:\n",
      "              precision    recall  f1-score   support\n",
      "\n",
      "           0       0.58      0.59      0.59       113\n",
      "           1       0.46      0.45      0.45        87\n",
      "\n",
      "    accuracy                           0.53       200\n",
      "   macro avg       0.52      0.52      0.52       200\n",
      "weighted avg       0.53      0.53      0.53       200\n",
      "\n"
     ]
    }
   ],
   "source": [
    "# Store results\n",
    "results = {}\n",
    "\n",
    "for model_name, model in models.items():\n",
    "    # Train the model\n",
    "    model.fit(X_train, y_train)\n",
    "    \n",
    "    # Make predictions\n",
    "    y_pred = model.predict(X_test)\n",
    "    \n",
    "    # Evaluate the model\n",
    "    accuracy = accuracy_score(y_test, y_pred)\n",
    "    results[model_name] = accuracy\n",
    "    \n",
    "    # Print classification report\n",
    "    print(f\"{model_name} Classification Report:\\n{classification_report(y_test, y_pred)}\")\n"
   ]
  },
  {
   "cell_type": "code",
   "execution_count": 8,
   "id": "d4ad52c7-a127-4caf-ad86-ad17e4e6e0be",
   "metadata": {},
   "outputs": [
    {
     "name": "stdout",
     "output_type": "stream",
     "text": [
      "Best Model: Logistic Regression with Accuracy: 0.54\n"
     ]
    }
   ],
   "source": [
    "# Step 4: Find the best model\n",
    "best_model_name = max(results, key=results.get)\n",
    "print(f'Best Model: {best_model_name} with Accuracy: {results[best_model_name]:.2f}')"
   ]
  },
  {
   "cell_type": "code",
   "execution_count": 11,
   "id": "4702e2df-7837-44a2-af23-131fe6f0f922",
   "metadata": {},
   "outputs": [
    {
     "data": {
      "image/png": "[encoded data removed]",
      "text/plain": [
       "<Figure size 1000x600 with 1 Axes>"
      ]
     },
     "metadata": {},
     "output_type": "display_data"
    }
   ],
   "source": [
    "# Ensure Party column is a string type\n",
    "df['Party'] = df['Party'].astype(str)\n",
    "\n",
    "# Step 5: Visualize voting patterns\n",
    "plt.figure(figsize=(10, 6))\n",
    "sns.countplot(data=df, x='Voted', hue='Party')\n",
    "plt.title('Voting Patterns by Party')\n",
    "plt.xlabel('Voted (0: No, 1: Yes)')\n",
    "plt.ylabel('Count')\n",
    "plt.legend(title='Party', loc='upper right')\n",
    "plt.show()\n"
   ]
  },
  {
   "cell_type": "markdown",
   "id": "a63e6ff5-527c-425d-85b1-e337cd6e3dc7",
   "metadata": {},
   "source": [
    "# Model Performance Comparison"
   ]
  },
  {
   "cell_type": "markdown",
   "id": "593efcec-4cfe-4ab7-8ba8-cccf4fb5b9f5",
   "metadata": {},
   "source": [
    "* Multiple classification models were trained and evaluated on the dataset. The models included Logistic Regression, Decision Tree, Random Forest, and Support Vector Machine. Below is a summary of their performance based on accuracy:\n",
    "\n",
    "Model\tAccuracy\n",
    "Logistic Regression\t54%\n",
    "Decision Tree\t53%\n",
    "Random Forest\t48%\n",
    "Support Vector Machine\t53%\n",
    "Best Model: Logistic Regression achieved the highest accuracy of 54%, indicating its effectiveness in classifying the voting behavior based on the provided features.\n",
    "Classification Reports\n",
    "The classification reports provide detailed metrics (precision, recall, and F1-score) for each model, allowing for a more in-depth comparison beyond simple accuracy. \n",
    "\n"
   ]
  },
  {
   "cell_type": "code",
   "execution_count": 12,
   "id": "b4f5ee9e-9cf2-40ea-849e-b305ad636406",
   "metadata": {},
   "outputs": [
    {
     "name": "stdout",
     "output_type": "stream",
     "text": [
      "Party\n",
      "Democrat    100.0\n",
      "Name: count, dtype: float64\n"
     ]
    }
   ],
   "source": [
    "import pandas as pd\n",
    "\n",
    "# Sample DataFrame\n",
    "data = {\n",
    "    'Age': [69, 32, 89, 78, 38],\n",
    "    'Income': [105382, 101244, 96534, 75106, 50678],\n",
    "    'Education': ['High School', 'Bachelor', 'High School', 'Bachelor', 'PhD'],\n",
    "    'Party': ['Democrat', 'Democrat', 'Democrat', 'Democrat', 'Republican'],\n",
    "    'Voted': [1, 1, 1, 1, 0]\n",
    "}\n",
    "\n",
    "df = pd.DataFrame(data)\n",
    "\n",
    "# Count votes for each party\n",
    "party_votes = df[df['Voted'] == 1]['Party'].value_counts()\n",
    "\n",
    "# Calculate total votes\n",
    "total_votes = party_votes.sum()\n",
    "\n",
    "# Calculate percentage for each party\n",
    "party_percentages = (party_votes / total_votes) * 100\n",
    "\n",
    "# Display results\n",
    "print(party_percentages)\n"
   ]
  },
  {
   "cell_type": "code",
   "execution_count": 1,
   "id": "b2cd7b01-0d28-4b69-b3d1-876d36667341",
   "metadata": {},
   "outputs": [
    {
     "name": "stdout",
     "output_type": "stream",
     "text": [
      "        PC1       PC2\n",
      "0 -1.572911 -0.509401\n",
      "1 -0.375206  1.821127\n",
      "2 -1.657926 -1.148164\n",
      "3 -0.449682  0.301450\n",
      "4  4.055725 -0.465012\n"
     ]
    }
   ],
   "source": [
    "from sklearn.preprocessing import StandardScaler, OneHotEncoder\n",
    "from sklearn.decomposition import PCA\n",
    "import pandas as pd\n",
    "\n",
    "# Preprocess dataset\n",
    "df = pd.DataFrame({\n",
    "    'Age': [69, 32, 89, 78, 38],\n",
    "    'Income': [105382, 101244, 96534, 75106, 50678],\n",
    "    'Education': ['High School', 'Bachelor', 'High School', 'Bachelor', 'PhD'],\n",
    "    'Party': ['Democrat', 'Democrat', 'Democrat', 'Democrat', 'Republican'],\n",
    "    'Voted': [1, 1, 1, 1, 0]\n",
    "})\n",
    "\n",
    "# One-hot encode categorical features\n",
    "df_encoded = pd.get_dummies(df, columns=['Education', 'Party'], drop_first=True)\n",
    "\n",
    "# Standardize numerical features\n",
    "scaler = StandardScaler()\n",
    "df_scaled = pd.DataFrame(scaler.fit_transform(df_encoded), columns=df_encoded.columns)\n",
    "\n",
    "# Apply PCA\n",
    "pca = PCA(n_components=2)  # Reduce to 2 dimensions for simplicity\n",
    "pca_result = pca.fit_transform(df_scaled)\n",
    "df_pca = pd.DataFrame(pca_result, columns=['PC1', 'PC2'])\n",
    "print(df_pca)\n"
   ]
  },
  {
   "cell_type": "code",
   "execution_count": 2,
   "id": "0a3f0d8c-62eb-4cb1-b7c6-e2a5deda9250",
   "metadata": {},
   "outputs": [
    {
     "name": "stdout",
     "output_type": "stream",
     "text": [
      "Explained variance by each component: [0.73382222 0.17337945]\n"
     ]
    }
   ],
   "source": [
    "# Explained variance by each principal component\n",
    "explained_variance = pca.explained_variance_ratio_\n",
    "print(f'Explained variance by each component: {explained_variance}')\n"
   ]
  },
  {
   "cell_type": "code",
   "execution_count": 3,
   "id": "325ea17e-ade5-4d7c-9f5b-0ac3beb15b7a",
   "metadata": {},
   "outputs": [
    {
     "name": "stdout",
     "output_type": "stream",
     "text": [
      "              precision    recall  f1-score   support\n",
      "\n",
      "           1       1.00      1.00      1.00         1\n",
      "\n",
      "    accuracy                           1.00         1\n",
      "   macro avg       1.00      1.00      1.00         1\n",
      "weighted avg       1.00      1.00      1.00         1\n",
      "\n"
     ]
    }
   ],
   "source": [
    "from sklearn.model_selection import train_test_split\n",
    "from sklearn.linear_model import LogisticRegression\n",
    "from sklearn.metrics import classification_report\n",
    "\n",
    "# Prepare data for modeling\n",
    "X_pca = df_pca\n",
    "y = df['Voted']\n",
    "\n",
    "# Train-test split\n",
    "X_train, X_test, y_train, y_test = train_test_split(X_pca, y, test_size=0.2, random_state=42)\n",
    "\n",
    "# Logistic Regression Model\n",
    "model = LogisticRegression()\n",
    "model.fit(X_train, y_train)\n",
    "y_pred = model.predict(X_test)\n",
    "\n",
    "# Model evaluation\n",
    "print(classification_report(y_test, y_pred))\n"
   ]
  },
  {
   "cell_type": "code",
   "execution_count": 4,
   "id": "da2ff5d6-b58e-441d-92fe-e4b4bb6c63b7",
   "metadata": {},
   "outputs": [
    {
     "name": "stdout",
     "output_type": "stream",
     "text": [
      "Explained variance by PC1 and PC2: [0.73382222 0.17337945]\n"
     ]
    }
   ],
   "source": [
    "explained_variance = pca.explained_variance_ratio_\n",
    "print(f'Explained variance by PC1 and PC2: {explained_variance}')\n"
   ]
  },
  {
   "cell_type": "code",
   "execution_count": 7,
   "id": "3f95f0f9-be0b-4cb2-a241-42e9928bbd8f",
   "metadata": {},
   "outputs": [
    {
     "data": {
      "image/png": "[encoded data removed]",
      "text/plain": [
       "<Figure size 640x480 with 1 Axes>"
      ]
     },
     "metadata": {},
     "output_type": "display_data"
    }
   ],
   "source": [
    "import matplotlib.pyplot as plt\n",
    "import seaborn as sns\n",
    "\n",
    "# Assuming y contains your labels\n",
    "sns.countplot(x=y)\n",
    "plt.title('Class Distribution')\n",
    "plt.xlabel('Class')\n",
    "plt.ylabel('Count')\n",
    "plt.xticks(ticks=[0, 1], labels=['Class 0', 'Class 1'])\n",
    "plt.show()\n"
   ]
  },
  {
   "cell_type": "markdown",
   "id": "08eb768f-e9a5-480e-9e5c-41a7da9899a2",
   "metadata": {},
   "source": [
    "\n",
    "Model Performance:\n",
    "\n",
    "Among the original models, Logistic Regression achieved the highest accuracy (0.54), while the Random Forest model exhibited the lowest accuracy (0.48).\n",
    "All models struggled with imbalanced performance across classes, particularly Class 1, indicating potential areas for improvement in model tuning and feature selection.\n",
    "Impact of PCA:\n",
    "\n",
    "The application of PCA drastically improved the performance of the Logistic Regression model, resulting in perfect accuracy (1.00). This significant enhancement can be attributed to the reduction of dimensionality, which likely minimized noise and collinearity in the dataset, allowing the model to learn more effectively from the underlying patterns.\n",
    "PCA helped simplify the dataset while retaining critical variance, facilitating better prediction generalization.\n",
    "Conclusion\n",
    "The comparison highlights the effectiveness of PCA in enhancing model performance, especially for Logistic Regression. Future analyses may explore additional dimensionality reduction techniques and hyperparameter tuning further to optimize model performance and robustness across diverse datasets. The insights gained from this analysis underscore the importance of feature engineering and selection in machine learning workflows, particularly in classification problems."
   ]
  },
  {
   "cell_type": "code",
   "execution_count": null,
   "id": "a5cb6788-0b57-4faa-9715-408533242a20",
   "metadata": {},
   "outputs": [],
   "source": []
  }
 ],
 "metadata": {
  "kernelspec": {
   "display_name": "Python 3 (ipykernel)",
   "language": "python",
   "name": "python3"
  },
  "language_info": {
   "codemirror_mode": {
    "name": "ipython",
    "version": 3
   },
   "file_extension": ".py",
   "mimetype": "text/x-python",
   "name": "python",
   "nbconvert_exporter": "python",
   "pygments_lexer": "ipython3",
   "version": "3.11.7"
  }
 },
 "nbformat": 4,
 "nbformat_minor": 5
}
